# Coursera_Capstone_Project
This Capstone Project involve some Foursquare API which will used for this Project Preliminarly
import pandas as pd
import numpy as np
print("Hello Capstone Project Course")
